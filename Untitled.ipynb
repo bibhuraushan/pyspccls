{
 "cells": [
  {
   "cell_type": "code",
   "execution_count": 195,
   "id": "4885da09-c995-4cbc-ae29-04cd4379b11f",
   "metadata": {},
   "outputs": [],
   "source": [
    "%reload_ext autoreload\n",
    "%autoreload 2\n",
    "import spclass.organize as org\n",
    "import os"
   ]
  },
  {
   "cell_type": "code",
   "execution_count": 77,
   "id": "43253814-4bc3-4472-832e-03977e4f2204",
   "metadata": {},
   "outputs": [],
   "source": [
    "a=list(os.scandir(\"/Users/bjha/Documents\"))\n",
    "# for i in a:\n",
    "#     print(i.path)"
   ]
  },
  {
   "cell_type": "code",
   "execution_count": 196,
   "id": "26dc9b93-217a-4c10-9861-56e5537f8135",
   "metadata": {},
   "outputs": [],
   "source": [
    "# org.orgfilebytype(\"/Users/bjha/Downloads/\", move=True)\n",
    "# org.getoutofdir(\"/Users/bjha/Library/CloudStorage/Dropbox/others_uncat\", move=True)\n",
    "org.rmemptydir(\"/Users/bjha/Library/CloudStorage/Dropbox/others_uncat\")\n",
    "# org.orgfilebytype(\"/Users/bjha/Library/CloudStorage/Dropbox/others_uncat\", move=True)"
   ]
  },
  {
   "cell_type": "code",
   "execution_count": 174,
   "id": "06bcb113-f0cf-4b78-a2c8-a49325812d51",
   "metadata": {},
   "outputs": [
    {
     "name": "stdout",
     "output_type": "stream",
     "text": [
      "/Users/bjha/Documents/png\n"
     ]
    }
   ],
   "source": [
    "org.copy_ext(\"png\", path=\"/Users/bjha/Documents/\")"
   ]
  },
  {
   "cell_type": "code",
   "execution_count": 190,
   "id": "f9053d52-d58f-41f9-8e4a-531111f9b6dc",
   "metadata": {},
   "outputs": [
    {
     "data": {
      "text/plain": [
       "'The rain in Spain'"
      ]
     },
     "execution_count": 190,
     "metadata": {},
     "output_type": "execute_result"
    }
   ],
   "source": [
    "import re\n",
    "\n",
    "txt = \"The rain in Spain\"\n",
    "x = re.search(\"^The.*Spain$\", txt)\n",
    "x.group()"
   ]
  },
  {
   "cell_type": "code",
   "execution_count": 191,
   "id": "9725c228-554d-408a-8ef8-d3af00ea6d81",
   "metadata": {},
   "outputs": [
    {
     "data": {
      "text/plain": [
       "'i'"
      ]
     },
     "execution_count": 191,
     "metadata": {},
     "output_type": "execute_result"
    }
   ],
   "source": [
    "import re\n",
    "\n",
    "txt = \"The rain in Spain\"\n",
    "x = re.search(\"r*i\", txt)\n",
    "x.group()"
   ]
  },
  {
   "cell_type": "code",
   "execution_count": null,
   "id": "d1d8ed52-d86d-4f78-941d-a60403ea7b8e",
   "metadata": {},
   "outputs": [],
   "source": []
  }
 ],
 "metadata": {
  "kernelspec": {
   "display_name": "Python 3 (ipykernel)",
   "language": "python",
   "name": "python3"
  },
  "language_info": {
   "codemirror_mode": {
    "name": "ipython",
    "version": 3
   },
   "file_extension": ".py",
   "mimetype": "text/x-python",
   "name": "python",
   "nbconvert_exporter": "python",
   "pygments_lexer": "ipython3",
   "version": "3.10.13"
  }
 },
 "nbformat": 4,
 "nbformat_minor": 5
}
