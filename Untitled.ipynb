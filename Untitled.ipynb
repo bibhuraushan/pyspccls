{
 "cells": [
  {
   "cell_type": "code",
   "execution_count": 3,
   "id": "4885da09-c995-4cbc-ae29-04cd4379b11f",
   "metadata": {},
   "outputs": [],
   "source": [
    "%reload_ext autoreload\n",
    "%autoreload 2\n",
    "import spclass as sp\n",
    "a = sp.DictAttr({\"aa\":123, \"bb\":345})"
   ]
  },
  {
   "cell_type": "code",
   "execution_count": 4,
   "id": "1b0cf252-db87-4552-9b32-2ca7899576f6",
   "metadata": {},
   "outputs": [
    {
     "data": {
      "text/plain": [
       "DictAttr({'aa': 123, 'bb': 345})"
      ]
     },
     "execution_count": 4,
     "metadata": {},
     "output_type": "execute_result"
    }
   ],
   "source": [
    "a"
   ]
  },
  {
   "cell_type": "code",
   "execution_count": 5,
   "id": "d89c66bc-6098-4c35-8935-44979e7a256d",
   "metadata": {},
   "outputs": [
    {
     "name": "stdout",
     "output_type": "stream",
     "text": [
      "        aa: 123\n",
      "        bb: 345\n",
      "\n"
     ]
    }
   ],
   "source": [
    "print(a)"
   ]
  },
  {
   "cell_type": "code",
   "execution_count": 6,
   "id": "6202ace8-8554-42d4-a3b2-f5720f264649",
   "metadata": {},
   "outputs": [
    {
     "data": {
      "text/plain": [
       "123"
      ]
     },
     "execution_count": 6,
     "metadata": {},
     "output_type": "execute_result"
    }
   ],
   "source": [
    "a.aa"
   ]
  },
  {
   "cell_type": "code",
   "execution_count": null,
   "id": "cebb6dd4-e25d-4dd0-8c1d-d7e9706cebd4",
   "metadata": {},
   "outputs": [],
   "source": []
  }
 ],
 "metadata": {
  "kernelspec": {
   "display_name": "Python 3 (ipykernel)",
   "language": "python",
   "name": "python3"
  },
  "language_info": {
   "codemirror_mode": {
    "name": "ipython",
    "version": 3
   },
   "file_extension": ".py",
   "mimetype": "text/x-python",
   "name": "python",
   "nbconvert_exporter": "python",
   "pygments_lexer": "ipython3",
   "version": "3.10.13"
  }
 },
 "nbformat": 4,
 "nbformat_minor": 5
}
